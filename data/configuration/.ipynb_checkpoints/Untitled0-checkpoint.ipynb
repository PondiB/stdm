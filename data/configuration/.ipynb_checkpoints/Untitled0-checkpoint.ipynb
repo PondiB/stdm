{
 "metadata": {
  "name": "",
  "signature": "sha256:8882bfd355280160bdebd0ec13dd7327ccaefa33d06900c4520f0d011f3196f2"
 },
 "nbformat": 3,
 "nbformat_minor": 0,
 "worksheets": []
}